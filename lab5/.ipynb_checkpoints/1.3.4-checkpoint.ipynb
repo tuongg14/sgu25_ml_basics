{
 "cells": [
  {
   "cell_type": "markdown",
   "id": "93284a62-75bb-4048-b273-2c72affabdde",
   "metadata": {},
   "source": [
    "## 1.3.4. Bài tập thực hành 2\n",
    "### Tìm hiểu các tính năng và cách sử dụng sản phẩm AutoViz áp dụng trên tập dữ liệu Marketing Campaign"
   ]
  },
  {
   "cell_type": "markdown",
   "id": "fd1cef0e-690e-471f-a70e-5cc73396c2fa",
   "metadata": {},
   "source": [
    "**Giới thiệu AutoViz:**\n",
    "AutoViz là một thư viện Python hỗ trợ phân tích dữ liệu khám phá (EDA – Exploratory Data Analysis) tự động.\n",
    "\n",
    "Thay vì phải viết nhiều dòng code để vẽ từng biểu đồ thủ công, AutoViz có thể:\n",
    "- Tự động nhận diện loại dữ liệu (số, phân loại, thời gian).\n",
    "\n",
    "- Xử lý cơ bản dữ liệu (loại bỏ missing values, chuẩn hóa định dạng).\n",
    "\n",
    "- Sinh ra nhiều biểu đồ trực quan (histogram, boxplot, scatter plot, heatmap).\n",
    "\n",
    "- Điều này giúp nhà phân tích tiết kiệm thời gian khi tìm hiểu tập dữ liệu mới và nhanh chóng nắm được bức tranh tổng quan trước khi xây dựng mô hình."
   ]
  },
  {
   "cell_type": "markdown",
   "id": "8b13388d-7be5-418a-8719-d6591d683a28",
   "metadata": {},
   "source": [
    "**Một số tính năng chính của AutoViz:**\n",
    "\n",
    "- Tự động phân tích dữ liệu đầu vào: phát hiện kiểu dữ liệu, phân phối, giá trị thiếu.\n",
    "\n",
    "- Trực quan hóa đa dạng:\n",
    "\n",
    "    - Histogram và Boxplot cho biến số.\n",
    "\n",
    "    - Scatter plot giữa các cặp biến số.\n",
    "\n",
    "    - Heatmap thể hiện tương quan giữa các biến số.\n",
    "\n",
    "- So sánh theo biến mục tiêu: nếu dataset có biến phân loại (target), AutoViz sẽ phân tích phân phối và đặc trưng của các nhóm.\n",
    "\n",
    "- Hỗ trợ dữ liệu lớn: có thể làm việc với hàng trăm nghìn dòng."
   ]
  },
  {
   "cell_type": "markdown",
   "id": "3d30447c-5c91-4c1e-a4b7-8a73e8d323df",
   "metadata": {},
   "source": [
    "#### Cách sử dụng đối với file Marketing Campaign:"
   ]
  },
  {
   "cell_type": "code",
   "execution_count": null,
   "id": "e720a049-b2ab-4e7d-9340-18c0d808f26d",
   "metadata": {},
   "outputs": [],
   "source": [
    "import pandas as pd\n",
    "import os\n",
    "import webbrowser\n",
    "from autoviz.AutoViz_Class import AutoViz_Class\n",
    "\n",
    "AV = AutoViz_Class()\n",
    "\n",
    "df = pd.read_csv(\"marketing_campaign.csv\", sep=\"\\t\")\n",
    "\n",
    "df.drop_duplicates(inplace=True)\n",
    "if \"Income\" in df.columns:\n",
    "    df[\"Income\"] = pd.to_numeric(df[\"Income\"], errors=\"coerce\")\n",
    "    df[\"Income\"] = df[\"Income\"].fillna(df[\"Income\"].median())\n",
    "\n",
    "# AutoViz chạy trên DataFrame\n",
    "df_av = AV.AutoViz(\n",
    "    filename=\"\",       \n",
    "    dfte=df,         \n",
    "    depVar=\"Response\",        \n",
    "    sep=\",\", \n",
    "    header=0, \n",
    "    verbose=1, \n",
    "    chart_format=\"png\",\n",
    "    max_rows_analyzed=150000, \n",
    "    max_cols_analyzed=30\n",
    ")"
   ]
  },
  {
   "cell_type": "code",
   "execution_count": null,
   "id": "9bd321c8-1d24-4bf4-8c53-339a472fb920",
   "metadata": {},
   "outputs": [],
   "source": [
    "# --- Tạo file HTML report ---\n",
    "report_file = \"autoviz_report.html\"\n",
    "plots_dir = os.path.join(\"AutoViz_Plots\", \"Response\")\n",
    "\n",
    "with open(report_file, \"w\", encoding=\"utf-8\") as f:\n",
    "    f.write(\"<html><head><title>AutoViz Report</title></head><body>\")\n",
    "    f.write(\"<h1>AutoViz Report</h1>\")\n",
    "\n",
    "    # Duyệt qua toàn bộ file plot\n",
    "    if os.path.exists(plots_dir):\n",
    "        for img in sorted(os.listdir(plots_dir)):\n",
    "            file_path = os.path.join(plots_dir, img)\n",
    "\n",
    "            if img.endswith((\".png\", \".svg\")):\n",
    "                f.write(f\"<h3>{img}</h3>\")\n",
    "                f.write(f'<img src=\"{file_path}\" style=\"max-width:100%; border:1px solid #ccc;\"><br><br>')\n",
    "\n",
    "            elif img.endswith(\".html\"):\n",
    "                f.write(f\"<h3>{img}</h3>\")\n",
    "                f.write(f'<iframe src=\"{file_path}\" width=\"100%\" height=\"600\" style=\"border:1px solid #ccc;\"></iframe><br><br>')\n",
    "    else:\n",
    "        f.write(\"<p>⚠️ Không tìm thấy thư mục AutoViz_Plots/Response</p>\")\n",
    "\n",
    "    f.write(\"</body></html>\")\n",
    "\n",
    "print(f\" File report đã tạo: {os.path.abspath(report_file)}\")\n",
    "webbrowser.open(\"file://\" + os.path.abspath(report_file))"
   ]
  },
  {
   "cell_type": "markdown",
   "id": "c550e847-cba7-4ee6-b8ad-2323fd81a31b",
   "metadata": {},
   "source": [
    "**Nhận xét khi áp dụng với tập dữ liệu Marketing Campaign:**\n",
    "\n",
    "Khi dùng AutoViz để phân tích file marketing_campaign.csv, có thể rút ra một số điểm sau:\n",
    "\n",
    "- Dữ liệu gồm cả số (như Year_Birth, Income, Recency, MntWines, MntMeatProducts) và chữ (như Education, Marital_Status). Cột Income có giá trị bị thiếu, đã được thay bằng trung vị để đảm bảo phân tích mượt hơn.\n",
    "\n",
    "- Biến mục tiêu là Response (0 = không phản hồi, 1 = có phản hồi). AutoViz dựa vào đó để so sánh các đặc điểm giữa hai nhóm khách hàng.\n",
    "\n",
    "- Một vài kết quả nổi bật:\n",
    "\n",
    "        - Year_Birth nằm trong khoảng 1892–1996, cho thấy AutoViz đã bỏ bớt giá trị ngoại lai.\n",
    "\n",
    "        - Income có phân phối lệch phải: đa số thu nhập trung bình, một số ít thu nhập rất cao.\n",
    "\n",
    "        - Các biến gia đình như Kidhome và Teenhome có liên quan nhẹ đến Response.\n",
    "\n",
    "        - Recency (số ngày từ lần mua gần nhất) cũng có ảnh hưởng, khách hàng mua gần đây thường dễ phản hồi hơn.\n",
    "\n",
    "        - Chi tiêu như MntWines hay MntMeatProducts không liên quan rõ ràng tới Response.\n",
    "\n",
    "        - Nhóm có Education = PhD và Marital_Status = Married thường có Income cao hơn so với các nhóm khác."
   ]
  },
  {
   "cell_type": "markdown",
   "id": "07126c52-b263-4390-a4de-c746ad1c65f5",
   "metadata": {},
   "source": [
    "Nhìn chung, AutoViz giúp thấy nhanh đặc điểm và mối liên hệ giữa các biến với Response, tuy nhiên không phải cột nào cũng có biểu đồ rõ ràng. Đây chỉ là bước khám phá dữ liệu ban đầu, cần thêm các phân tích thống kê hoặc mô hình dự đoán để rút ra kết luận chắc chắn hơn."
   ]
  },
  {
   "cell_type": "code",
   "execution_count": null,
   "id": "4185015f-5b4e-4c4a-b9d9-25a049e17b9f",
   "metadata": {},
   "outputs": [],
   "source": []
  }
 ],
 "metadata": {
  "kernelspec": {
   "display_name": "Python 3 (ipykernel)",
   "language": "python",
   "name": "python3"
  },
  "language_info": {
   "codemirror_mode": {
    "name": "ipython",
    "version": 3
   },
   "file_extension": ".py",
   "mimetype": "text/x-python",
   "name": "python",
   "nbconvert_exporter": "python",
   "pygments_lexer": "ipython3",
   "version": "3.13.5"
  }
 },
 "nbformat": 4,
 "nbformat_minor": 5
}
