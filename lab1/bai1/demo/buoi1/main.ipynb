{
 "cells": [
  {
   "cell_type": "markdown",
   "id": "f2ef3d85",
   "metadata": {},
   "source": [
    "### EX1: Tinh toan co ban"
   ]
  },
  {
   "cell_type": "code",
   "execution_count": 1,
   "id": "b6d661cf",
   "metadata": {},
   "outputs": [
    {
     "name": "stdout",
     "output_type": "stream",
     "text": [
      "Calculator Basic\n",
      "c = 10 + 20 = 30\n"
     ]
    }
   ],
   "source": [
    "%run ex1_calc.py"
   ]
  },
  {
   "cell_type": "markdown",
   "id": "47a5e39f",
   "metadata": {},
   "source": [
    "### EX3: Tinh dien tich va chu vi hinh tron"
   ]
  },
  {
   "cell_type": "code",
   "execution_count": 3,
   "id": "8ad9536b",
   "metadata": {},
   "outputs": [
    {
     "name": "stdout",
     "output_type": "stream",
     "text": [
      "Circle Basic\n",
      "Chu vi hinh tron la: 25.132741\n",
      "Dien tich hinh tron la: 50.265482\n"
     ]
    }
   ],
   "source": [
    "%run ex3_circle.py"
   ]
  }
 ],
 "metadata": {
  "kernelspec": {
   "display_name": "base",
   "language": "python",
   "name": "python3"
  },
  "language_info": {
   "codemirror_mode": {
    "name": "ipython",
    "version": 3
   },
   "file_extension": ".py",
   "mimetype": "text/x-python",
   "name": "python",
   "nbconvert_exporter": "python",
   "pygments_lexer": "ipython3",
   "version": "3.13.5"
  }
 },
 "nbformat": 4,
 "nbformat_minor": 5
}
