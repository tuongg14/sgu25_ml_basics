{
 "cells": [
  {
   "cell_type": "markdown",
   "id": "c5cc4e65-8b70-4957-b416-067ce5b840e8",
   "metadata": {},
   "source": [
    "# Thuc hanh tri tue nhan tao Buoi 1\n",
    "\n",
    "## Noi dung thuc hanh"
   ]
  },
  {
   "cell_type": "markdown",
   "id": "01698732-261c-4d75-94be-90f77c2f8da3",
   "metadata": {},
   "source": [
    "### In chu ra man hinh"
   ]
  },
  {
   "cell_type": "code",
   "execution_count": 1,
   "id": "c2f60f4d-dde8-46d6-b567-a07698955bd3",
   "metadata": {},
   "outputs": [
    {
     "name": "stdout",
     "output_type": "stream",
     "text": [
      "Hello, Python World!\n"
     ]
    }
   ],
   "source": [
    "# lenh 1 - xuat chu\n",
    "print (\"Hello, Python World!\")"
   ]
  },
  {
   "cell_type": "markdown",
   "id": "9860ec52-c1bb-4c18-a05a-4b61cc9e3ae7",
   "metadata": {},
   "source": [
    "### Chay tap tin python"
   ]
  },
  {
   "cell_type": "code",
   "execution_count": 4,
   "id": "ecb6b4db-c883-4de6-8646-9bb5d74a3cc9",
   "metadata": {},
   "outputs": [
    {
     "name": "stdout",
     "output_type": "stream",
     "text": [
      "Hello, Python World!\n"
     ]
    }
   ],
   "source": [
    "!python ex0_hello_world.py"
   ]
  },
  {
   "cell_type": "code",
   "execution_count": 5,
   "id": "2f7ef5de-a66d-406d-bc1c-457721dab4e9",
   "metadata": {},
   "outputs": [
    {
     "name": "stdout",
     "output_type": "stream",
     "text": [
      "Hello, Python World!\n"
     ]
    }
   ],
   "source": [
    "%run ex0_hello_world.py"
   ]
  },
  {
   "cell_type": "markdown",
   "id": "ac8627fa-6534-41e8-be45-248566d7e6a8",
   "metadata": {},
   "source": [
    "### Tinh Toan Don Gian"
   ]
  },
  {
   "cell_type": "code",
   "execution_count": 3,
   "id": "886dd63d-b0da-463f-9b93-560863e06692",
   "metadata": {},
   "outputs": [
    {
     "name": "stdout",
     "output_type": "stream",
     "text": [
      "Calculator Basic\n",
      "c = 10 + 20 = 30\n"
     ]
    }
   ],
   "source": [
    "%run ex1_calc.py"
   ]
  },
  {
   "cell_type": "code",
   "execution_count": 8,
   "id": "a2843c67-26da-42f0-b3fb-960ab0019fcc",
   "metadata": {},
   "outputs": [
    {
     "name": "stdout",
     "output_type": "stream",
     "text": [
      "Calculator Basic\n"
     ]
    },
    {
     "name": "stdout",
     "output_type": "stream",
     "text": [
      "Moi ban nhap so a:  10\n",
      "Moi ban nhap so b:  20\n"
     ]
    },
    {
     "name": "stdout",
     "output_type": "stream",
     "text": [
      "c = 10 + 20 = 30\n"
     ]
    }
   ],
   "source": [
    "print(\"Calculator Basic\")\n",
    "a = int(input(\"Moi ban nhap so a: \"))\n",
    "b = int(input(\"Moi ban nhap so b: \"))\n",
    "c = a + b\n",
    "print(\"c = %d + %d = %d\" % (a, b, c))"
   ]
  },
  {
   "cell_type": "markdown",
   "id": "9ef12299",
   "metadata": {},
   "source": [
    "### Tinh chu vi va dien tich hinh tron"
   ]
  },
  {
   "cell_type": "code",
   "execution_count": 2,
   "id": "2b66753e",
   "metadata": {},
   "outputs": [
    {
     "name": "stdout",
     "output_type": "stream",
     "text": [
      "Circle Basic\n",
      "Chu vi hinh tron la: 25.132741\n",
      "Dien tich hinh tron la: 50.265482\n"
     ]
    }
   ],
   "source": [
    "%run ex3_circle.py"
   ]
  },
  {
   "cell_type": "markdown",
   "id": "7a443ff7-589c-4e4b-b910-b0d01766a2e8",
   "metadata": {},
   "source": [
    "# Ket thuc"
   ]
  },
  {
   "cell_type": "code",
   "execution_count": null,
   "id": "b965fae6-1c3a-4ba5-a37a-6f3713d1dcaf",
   "metadata": {},
   "outputs": [],
   "source": []
  }
 ],
 "metadata": {
  "kernelspec": {
   "display_name": "base",
   "language": "python",
   "name": "python3"
  },
  "language_info": {
   "codemirror_mode": {
    "name": "ipython",
    "version": 3
   },
   "file_extension": ".py",
   "mimetype": "text/x-python",
   "name": "python",
   "nbconvert_exporter": "python",
   "pygments_lexer": "ipython3",
   "version": "3.13.5"
  },
  "toc-autonumbering": false
 },
 "nbformat": 4,
 "nbformat_minor": 5
}
